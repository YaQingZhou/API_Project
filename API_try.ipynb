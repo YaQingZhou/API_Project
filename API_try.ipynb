{
 "cells": [
  {
   "attachments": {},
   "cell_type": "markdown",
   "metadata": {},
   "source": [
    "# 产品设计：“寻找世界上的另一个我”——相似面孔识别平台\n",
    "- 根据不同年龄段、不同性别、不同国籍甚至不同时代的用户人脸识别信息，找出互相之间面貌相似的人，即“世界上的另一个我”，进而实现社交交友等功能。"
   ]
  },
  {
   "cell_type": "markdown",
   "metadata": {},
   "source": [
    "### Azure"
   ]
  },
  {
   "cell_type": "code",
   "execution_count": 6,
   "metadata": {},
   "outputs": [
    {
     "name": "stdout",
     "output_type": "stream",
     "text": [
      "[{\"faceId\": \"73583023-2854-49d1-8231-bb5f39127d16\", \"faceRectangle\": {\"top\": 73, \"left\": 63, \"width\": 78, \"height\": 78}, \"faceAttributes\": {\"gender\": \"female\", \"age\": 24.0, \"emotion\": {\"anger\": 0.0, \"contempt\": 0.0, \"disgust\": 0.0, \"fear\": 0.0, \"happiness\": 0.989, \"neutral\": 0.011, \"sadness\": 0.0, \"surprise\": 0.0}}}, {\"faceId\": \"709ea6a7-c428-48aa-98d4-e931d0f26cf6\", \"faceRectangle\": {\"top\": 67, \"left\": 140, \"width\": 72, \"height\": 72}, \"faceAttributes\": {\"gender\": \"female\", \"age\": 22.0, \"emotion\": {\"anger\": 0.0, \"contempt\": 0.0, \"disgust\": 0.0, \"fear\": 0.0, \"happiness\": 0.999, \"neutral\": 0.001, \"sadness\": 0.0, \"surprise\": 0.0}}}]\n"
     ]
    }
   ],
   "source": [
    "import requests\n",
    "import json\n",
    "from pandas.io.json import json_normalize\n",
    "import pandas as pd\n",
    "\n",
    "# set to your own subscription key value\n",
    "subscription_key = '46aeaa93f6354c4eb041cf2993ac21d2'\n",
    "assert subscription_key\n",
    "\n",
    "# replace <My Endpoint String> with the string from your endpoint URL\n",
    "face_api_url = 'https://westcentralus.api.cognitive.microsoft.com/face/v1.0/detect'\n",
    "\n",
    "image_url = 'https://ss3.bdstatic.com/70cFv8Sh_Q1YnxGkpoWK1HF6hhy/it/u=3133513654,3008530545&fm=26&gp=0.jpg'\n",
    "\n",
    "headers = {'Ocp-Apim-Subscription-Key': subscription_key}\n",
    "\n",
    "params = {\n",
    "    'returnFaceId': 'true',\n",
    "    'returnFaceLandmarks': 'false',\n",
    "    'returnFaceAttributes': 'age,gender,emotion',\n",
    "}\n",
    "\n",
    "r = requests.post(face_api_url, params=params,\n",
    "                         headers=headers, json={\"url\": image_url})\n",
    "print(json.dumps(r.json()))\n",
    "results = r.json"
   ]
  },
  {
   "cell_type": "code",
   "execution_count": 4,
   "metadata": {},
   "outputs": [
    {
     "data": {
      "text/plain": [
       "200"
      ]
     },
     "execution_count": 4,
     "metadata": {},
     "output_type": "execute_result"
    }
   ],
   "source": [
    "r.status_code"
   ]
  },
  {
   "cell_type": "code",
   "execution_count": 7,
   "metadata": {},
   "outputs": [
    {
     "data": {
      "text/plain": [
       "[{'faceId': '73583023-2854-49d1-8231-bb5f39127d16',\n",
       "  'faceRectangle': {'top': 73, 'left': 63, 'width': 78, 'height': 78},\n",
       "  'faceAttributes': {'gender': 'female',\n",
       "   'age': 24.0,\n",
       "   'emotion': {'anger': 0.0,\n",
       "    'contempt': 0.0,\n",
       "    'disgust': 0.0,\n",
       "    'fear': 0.0,\n",
       "    'happiness': 0.989,\n",
       "    'neutral': 0.011,\n",
       "    'sadness': 0.0,\n",
       "    'surprise': 0.0}}},\n",
       " {'faceId': '709ea6a7-c428-48aa-98d4-e931d0f26cf6',\n",
       "  'faceRectangle': {'top': 67, 'left': 140, 'width': 72, 'height': 72},\n",
       "  'faceAttributes': {'gender': 'female',\n",
       "   'age': 22.0,\n",
       "   'emotion': {'anger': 0.0,\n",
       "    'contempt': 0.0,\n",
       "    'disgust': 0.0,\n",
       "    'fear': 0.0,\n",
       "    'happiness': 0.999,\n",
       "    'neutral': 0.001,\n",
       "    'sadness': 0.0,\n",
       "    'surprise': 0.0}}}]"
      ]
     },
     "execution_count": 7,
     "metadata": {},
     "output_type": "execute_result"
    }
   ],
   "source": [
    "results = r.json()\n",
    "results"
   ]
  },
  {
   "cell_type": "code",
   "execution_count": 8,
   "metadata": {},
   "outputs": [
    {
     "data": {
      "text/html": [
       "<div>\n",
       "<style scoped>\n",
       "    .dataframe tbody tr th:only-of-type {\n",
       "        vertical-align: middle;\n",
       "    }\n",
       "\n",
       "    .dataframe tbody tr th {\n",
       "        vertical-align: top;\n",
       "    }\n",
       "\n",
       "    .dataframe thead th {\n",
       "        text-align: right;\n",
       "    }\n",
       "</style>\n",
       "<table border=\"1\" class=\"dataframe\">\n",
       "  <thead>\n",
       "    <tr style=\"text-align: right;\">\n",
       "      <th></th>\n",
       "      <th>faceAttributes.age</th>\n",
       "      <th>faceAttributes.emotion.anger</th>\n",
       "      <th>faceAttributes.emotion.contempt</th>\n",
       "      <th>faceAttributes.emotion.disgust</th>\n",
       "      <th>faceAttributes.emotion.fear</th>\n",
       "      <th>faceAttributes.emotion.happiness</th>\n",
       "      <th>faceAttributes.emotion.neutral</th>\n",
       "      <th>faceAttributes.emotion.sadness</th>\n",
       "      <th>faceAttributes.emotion.surprise</th>\n",
       "      <th>faceAttributes.gender</th>\n",
       "      <th>faceId</th>\n",
       "      <th>faceRectangle.height</th>\n",
       "      <th>faceRectangle.left</th>\n",
       "      <th>faceRectangle.top</th>\n",
       "      <th>faceRectangle.width</th>\n",
       "    </tr>\n",
       "  </thead>\n",
       "  <tbody>\n",
       "    <tr>\n",
       "      <th>0</th>\n",
       "      <td>24.0</td>\n",
       "      <td>0.0</td>\n",
       "      <td>0.0</td>\n",
       "      <td>0.0</td>\n",
       "      <td>0.0</td>\n",
       "      <td>0.989</td>\n",
       "      <td>0.011</td>\n",
       "      <td>0.0</td>\n",
       "      <td>0.0</td>\n",
       "      <td>female</td>\n",
       "      <td>73583023-2854-49d1-8231-bb5f39127d16</td>\n",
       "      <td>78</td>\n",
       "      <td>63</td>\n",
       "      <td>73</td>\n",
       "      <td>78</td>\n",
       "    </tr>\n",
       "    <tr>\n",
       "      <th>1</th>\n",
       "      <td>22.0</td>\n",
       "      <td>0.0</td>\n",
       "      <td>0.0</td>\n",
       "      <td>0.0</td>\n",
       "      <td>0.0</td>\n",
       "      <td>0.999</td>\n",
       "      <td>0.001</td>\n",
       "      <td>0.0</td>\n",
       "      <td>0.0</td>\n",
       "      <td>female</td>\n",
       "      <td>709ea6a7-c428-48aa-98d4-e931d0f26cf6</td>\n",
       "      <td>72</td>\n",
       "      <td>140</td>\n",
       "      <td>67</td>\n",
       "      <td>72</td>\n",
       "    </tr>\n",
       "  </tbody>\n",
       "</table>\n",
       "</div>"
      ],
      "text/plain": [
       "   faceAttributes.age  faceAttributes.emotion.anger  \\\n",
       "0                24.0                           0.0   \n",
       "1                22.0                           0.0   \n",
       "\n",
       "   faceAttributes.emotion.contempt  faceAttributes.emotion.disgust  \\\n",
       "0                              0.0                             0.0   \n",
       "1                              0.0                             0.0   \n",
       "\n",
       "   faceAttributes.emotion.fear  faceAttributes.emotion.happiness  \\\n",
       "0                          0.0                             0.989   \n",
       "1                          0.0                             0.999   \n",
       "\n",
       "   faceAttributes.emotion.neutral  faceAttributes.emotion.sadness  \\\n",
       "0                           0.011                             0.0   \n",
       "1                           0.001                             0.0   \n",
       "\n",
       "   faceAttributes.emotion.surprise faceAttributes.gender  \\\n",
       "0                              0.0                female   \n",
       "1                              0.0                female   \n",
       "\n",
       "                                 faceId  faceRectangle.height  \\\n",
       "0  73583023-2854-49d1-8231-bb5f39127d16                    78   \n",
       "1  709ea6a7-c428-48aa-98d4-e931d0f26cf6                    72   \n",
       "\n",
       "   faceRectangle.left  faceRectangle.top  faceRectangle.width  \n",
       "0                  63                 73                   78  \n",
       "1                 140                 67                   72  "
      ]
     },
     "execution_count": 8,
     "metadata": {},
     "output_type": "execute_result"
    }
   ],
   "source": [
    "df = pd.io.json.json_normalize(results)\n",
    "df"
   ]
  },
  {
   "cell_type": "code",
   "execution_count": null,
   "metadata": {},
   "outputs": [],
   "source": []
  },
  {
   "cell_type": "markdown",
   "metadata": {},
   "source": [
    "## face++"
   ]
  },
  {
   "cell_type": "code",
   "execution_count": 17,
   "metadata": {},
   "outputs": [
    {
     "name": "stdout",
     "output_type": "stream",
     "text": [
      "{'request_id': '1585791905,7a35b59a-4c29-4207-be81-7f8475ed6552', 'time_used': 106, 'faces': [{'face_token': '25acb1d4dbbac1a014faa308e8f9bdd4', 'face_rectangle': {'top': 73, 'left': 336, 'width': 47, 'height': 47}, 'attributes': {'gender': {'value': 'Male'}, 'age': {'value': 27}, 'eyestatus': {'left_eye_status': {'no_glass_eye_open': 0.298, 'no_glass_eye_close': 0.001, 'normal_glass_eye_open': 94.48, 'normal_glass_eye_close': 0.452, 'dark_glasses': 4.768, 'occlusion': 0.002}, 'right_eye_status': {'no_glass_eye_open': 1.527, 'no_glass_eye_close': 0.0, 'normal_glass_eye_open': 98.367, 'normal_glass_eye_close': 0.008, 'dark_glasses': 0.079, 'occlusion': 0.019}}, 'glass': {'value': 'Normal'}}}, {'face_token': 'e9b1ea67f61c8af1908158504f9ac600', 'face_rectangle': {'top': 88, 'left': 166, 'width': 44, 'height': 44}, 'attributes': {'gender': {'value': 'Female'}, 'age': {'value': 27}, 'eyestatus': {'left_eye_status': {'no_glass_eye_open': 99.669, 'no_glass_eye_close': 0.076, 'normal_glass_eye_open': 0.212, 'normal_glass_eye_close': 0.014, 'dark_glasses': 0.0, 'occlusion': 0.029}, 'right_eye_status': {'no_glass_eye_open': 98.823, 'no_glass_eye_close': 0.011, 'normal_glass_eye_open': 1.15, 'normal_glass_eye_close': 0.007, 'dark_glasses': 0.0, 'occlusion': 0.009}}, 'glass': {'value': 'None'}}}, {'face_token': '8fd1956a8ecf753537c589639f0e0228', 'face_rectangle': {'top': 111, 'left': 248, 'width': 43, 'height': 43}, 'attributes': {'gender': {'value': 'Female'}, 'age': {'value': 37}, 'eyestatus': {'left_eye_status': {'no_glass_eye_open': 97.718, 'no_glass_eye_close': 0.0, 'normal_glass_eye_open': 2.277, 'normal_glass_eye_close': 0.002, 'dark_glasses': 0.0, 'occlusion': 0.002}, 'right_eye_status': {'no_glass_eye_open': 99.393, 'no_glass_eye_close': 0.0, 'normal_glass_eye_open': 0.596, 'normal_glass_eye_close': 0.001, 'dark_glasses': 0.0, 'occlusion': 0.009}}, 'glass': {'value': 'None'}}}], 'image_id': 'NmyAADxmMuPwyU1GEeRIzw==', 'face_num': 3}\n"
     ]
    }
   ],
   "source": [
    "import requests\n",
    "from pandas.io.json import json_normalize\n",
    "import pandas as pd\n",
    "\n",
    "api_secret = \"ufv5R1fyjJGHvDa5FeRt67AbP3ti7jqG\"\n",
    "\n",
    "api_key = 'o8bbWnUgFxjf2B-wylKXjeXGxu3sZF8C'\n",
    "\n",
    "BASE_URL = 'https://api-cn.faceplusplus.com/facepp/v3/detect' \n",
    "image_url = 'https://ss0.bdstatic.com/70cFuHSh_Q1YnxGkpoWK1HF6hhy/it/u=1148934299,774663263&fm=26&gp=0.jpg'\n",
    "\n",
    "headers = {\n",
    "    'Content-Type': 'application/json',\n",
    "}\n",
    "\n",
    "payload = {\n",
    "    \"image_url\":image_url,\n",
    "    'api_key': api_key,\n",
    "    'api_secret': api_secret,\n",
    "    'return_attributes':'age,gender,eyestatus', \n",
    "}\n",
    "\n",
    "r = requests.post(BASE_URL, params=payload, headers=headers)\n",
    "\n",
    "r.status_code\n",
    "print(r.json())"
   ]
  },
  {
   "cell_type": "code",
   "execution_count": 18,
   "metadata": {},
   "outputs": [
    {
     "data": {
      "text/plain": [
       "[{'face_token': '25acb1d4dbbac1a014faa308e8f9bdd4',\n",
       "  'face_rectangle': {'top': 73, 'left': 336, 'width': 47, 'height': 47},\n",
       "  'attributes': {'gender': {'value': 'Male'},\n",
       "   'age': {'value': 27},\n",
       "   'eyestatus': {'left_eye_status': {'no_glass_eye_open': 0.298,\n",
       "     'no_glass_eye_close': 0.001,\n",
       "     'normal_glass_eye_open': 94.48,\n",
       "     'normal_glass_eye_close': 0.452,\n",
       "     'dark_glasses': 4.768,\n",
       "     'occlusion': 0.002},\n",
       "    'right_eye_status': {'no_glass_eye_open': 1.527,\n",
       "     'no_glass_eye_close': 0.0,\n",
       "     'normal_glass_eye_open': 98.367,\n",
       "     'normal_glass_eye_close': 0.008,\n",
       "     'dark_glasses': 0.079,\n",
       "     'occlusion': 0.019}},\n",
       "   'glass': {'value': 'Normal'}}},\n",
       " {'face_token': 'e9b1ea67f61c8af1908158504f9ac600',\n",
       "  'face_rectangle': {'top': 88, 'left': 166, 'width': 44, 'height': 44},\n",
       "  'attributes': {'gender': {'value': 'Female'},\n",
       "   'age': {'value': 27},\n",
       "   'eyestatus': {'left_eye_status': {'no_glass_eye_open': 99.669,\n",
       "     'no_glass_eye_close': 0.076,\n",
       "     'normal_glass_eye_open': 0.212,\n",
       "     'normal_glass_eye_close': 0.014,\n",
       "     'dark_glasses': 0.0,\n",
       "     'occlusion': 0.029},\n",
       "    'right_eye_status': {'no_glass_eye_open': 98.823,\n",
       "     'no_glass_eye_close': 0.011,\n",
       "     'normal_glass_eye_open': 1.15,\n",
       "     'normal_glass_eye_close': 0.007,\n",
       "     'dark_glasses': 0.0,\n",
       "     'occlusion': 0.009}},\n",
       "   'glass': {'value': 'None'}}},\n",
       " {'face_token': '8fd1956a8ecf753537c589639f0e0228',\n",
       "  'face_rectangle': {'top': 111, 'left': 248, 'width': 43, 'height': 43},\n",
       "  'attributes': {'gender': {'value': 'Female'},\n",
       "   'age': {'value': 37},\n",
       "   'eyestatus': {'left_eye_status': {'no_glass_eye_open': 97.718,\n",
       "     'no_glass_eye_close': 0.0,\n",
       "     'normal_glass_eye_open': 2.277,\n",
       "     'normal_glass_eye_close': 0.002,\n",
       "     'dark_glasses': 0.0,\n",
       "     'occlusion': 0.002},\n",
       "    'right_eye_status': {'no_glass_eye_open': 99.393,\n",
       "     'no_glass_eye_close': 0.0,\n",
       "     'normal_glass_eye_open': 0.596,\n",
       "     'normal_glass_eye_close': 0.001,\n",
       "     'dark_glasses': 0.0,\n",
       "     'occlusion': 0.009}},\n",
       "   'glass': {'value': 'None'}}}]"
      ]
     },
     "execution_count": 18,
     "metadata": {},
     "output_type": "execute_result"
    }
   ],
   "source": [
    "results = r.json()\n",
    "results['faces']"
   ]
  },
  {
   "cell_type": "code",
   "execution_count": 22,
   "metadata": {},
   "outputs": [
    {
     "data": {
      "text/html": [
       "<div>\n",
       "<style scoped>\n",
       "    .dataframe tbody tr th:only-of-type {\n",
       "        vertical-align: middle;\n",
       "    }\n",
       "\n",
       "    .dataframe tbody tr th {\n",
       "        vertical-align: top;\n",
       "    }\n",
       "\n",
       "    .dataframe thead th {\n",
       "        text-align: right;\n",
       "    }\n",
       "</style>\n",
       "<table border=\"1\" class=\"dataframe\">\n",
       "  <thead>\n",
       "    <tr style=\"text-align: right;\">\n",
       "      <th></th>\n",
       "      <th>face_token</th>\n",
       "      <th>attributes.age.value</th>\n",
       "      <th>attributes.gender.value</th>\n",
       "      <th>attributes.glass.value</th>\n",
       "    </tr>\n",
       "  </thead>\n",
       "  <tbody>\n",
       "    <tr>\n",
       "      <th>0</th>\n",
       "      <td>25acb1d4dbbac1a014faa308e8f9bdd4</td>\n",
       "      <td>27</td>\n",
       "      <td>Male</td>\n",
       "      <td>Normal</td>\n",
       "    </tr>\n",
       "    <tr>\n",
       "      <th>1</th>\n",
       "      <td>e9b1ea67f61c8af1908158504f9ac600</td>\n",
       "      <td>27</td>\n",
       "      <td>Female</td>\n",
       "      <td>None</td>\n",
       "    </tr>\n",
       "    <tr>\n",
       "      <th>2</th>\n",
       "      <td>8fd1956a8ecf753537c589639f0e0228</td>\n",
       "      <td>37</td>\n",
       "      <td>Female</td>\n",
       "      <td>None</td>\n",
       "    </tr>\n",
       "  </tbody>\n",
       "</table>\n",
       "</div>"
      ],
      "text/plain": [
       "                         face_token  attributes.age.value  \\\n",
       "0  25acb1d4dbbac1a014faa308e8f9bdd4                    27   \n",
       "1  e9b1ea67f61c8af1908158504f9ac600                    27   \n",
       "2  8fd1956a8ecf753537c589639f0e0228                    37   \n",
       "\n",
       "  attributes.gender.value attributes.glass.value  \n",
       "0                    Male                 Normal  \n",
       "1                  Female                   None  \n",
       "2                  Female                   None  "
      ]
     },
     "execution_count": 22,
     "metadata": {},
     "output_type": "execute_result"
    }
   ],
   "source": [
    "df = pd.io.json.json_normalize(results['faces'])\n",
    "df_attributes = df[['face_token','attributes.age.value','attributes.gender.value','attributes.glass.value']]\n",
    "df_attributes"
   ]
  },
  {
   "cell_type": "markdown",
   "metadata": {},
   "source": [
    "## 百度智能云"
   ]
  },
  {
   "cell_type": "code",
   "execution_count": 41,
   "metadata": {},
   "outputs": [
    {
     "name": "stdout",
     "output_type": "stream",
     "text": [
      "{'refresh_token': '25.081039675b95d815cc0ee1932a5f47ce.315360000.1901158926.282335-19211995', 'expires_in': 2592000, 'session_key': '9mzdD0aOgcACaeRrQd1Cm/eQIlgIiKIybdZYMMam4koKNixa6o7UIiLh2wP9NnhHNSHo6vHY38YqQcy3l1ij/C6wZqeYtw==', 'access_token': '24.4b0a5ee94a32e13563f8b0f320d7294c.2592000.1588390926.282335-19211995', 'scope': 'public brain_all_scope vis-faceverify_faceverify_h5-face-liveness vis-faceverify_FACE_V3 vis-faceverify_idl_face_merge wise_adapt lebo_resource_base lightservice_public hetu_basic lightcms_map_poi kaidian_kaidian ApsMisTest_Test权限 vis-classify_flower lpq_开放 cop_helloScope ApsMis_fangdi_permission smartapp_snsapi_base iop_autocar oauth_tp_app smartapp_smart_game_openapi oauth_sessionkey smartapp_swanid_verify smartapp_opensource_openapi smartapp_opensource_recapi qatest_scope1 fake_face_detect_开放Scope vis-ocr_虚拟人物助理 idl-video_虚拟人物助理', 'session_secret': 'd187a712742c8d1e598cc4be631a3226'}\n"
     ]
    }
   ],
   "source": [
    "import requests \n",
    "\n",
    "# client_id 为官网获取的AK， client_secret 为官网获取的SK\n",
    "host = 'https://aip.baidubce.com/oauth/2.0/token?grant_type=client_credentials&client_id=va34EXhAX6dhNtnG5LWKIByb&client_secret=mCKkhn8NTnR0ET4VVZWuAoKGlL0yxRjp'\n",
    "response = requests.get(host)\n",
    "if response:\n",
    "    print(response.json())"
   ]
  },
  {
   "cell_type": "code",
   "execution_count": 47,
   "metadata": {},
   "outputs": [
    {
     "name": "stdout",
     "output_type": "stream",
     "text": [
      "{'error_code': 0, 'error_msg': 'SUCCESS', 'log_id': 1019415797555, 'timestamp': 1585806773, 'cached': 0, 'result': {'face_num': 1, 'face_list': [{'face_token': '1d4eb16e40ee2ec1e8661a48968bdcef', 'location': {'left': 47.28, 'top': 120.18, 'width': 174, 'height': 158, 'rotation': 0}, 'face_probability': 1, 'angle': {'yaw': 8.04, 'pitch': 5.47, 'roll': -3.27}, 'age': 27, 'gender': {'type': 'female', 'probability': 1}, 'glasses': {'type': 'none', 'probability': 1}, 'landmark': [{'x': 87.58, 'y': 142.2}, {'x': 163.88, 'y': 140.85}, {'x': 119.22, 'y': 181.62}, {'x': 123.56, 'y': 222.71}], 'landmark72': [{'x': 47.38, 'y': 146.8}, {'x': 49.4, 'y': 171.99}, {'x': 53.6, 'y': 197.58}, {'x': 59.63, 'y': 222.99}, {'x': 74.59, 'y': 248.42}, {'x': 98.56, 'y': 268.99}, {'x': 124.32, 'y': 277.1}, {'x': 152.92, 'y': 272.09}, {'x': 182.55, 'y': 255.61}, {'x': 205.12, 'y': 228.62}, {'x': 213.62, 'y': 200.26}, {'x': 218.85, 'y': 172.06}, {'x': 222.04, 'y': 143.72}, {'x': 69.08, 'y': 145.32}, {'x': 76.65, 'y': 138.79}, {'x': 85.48, 'y': 136.6}, {'x': 94.97, 'y': 138.72}, {'x': 103.11, 'y': 146.9}, {'x': 94.54, 'y': 148.38}, {'x': 85.17, 'y': 149.48}, {'x': 76.13, 'y': 148.28}, {'x': 87.58, 'y': 142.2}, {'x': 55.7, 'y': 132.16}, {'x': 66.01, 'y': 121.34}, {'x': 79.14, 'y': 120.08}, {'x': 91.99, 'y': 121.74}, {'x': 103.88, 'y': 129.98}, {'x': 91.33, 'y': 129.26}, {'x': 78.72, 'y': 128.31}, {'x': 66.66, 'y': 129.01}, {'x': 145.58, 'y': 146.07}, {'x': 153.34, 'y': 138}, {'x': 162.45, 'y': 135.3}, {'x': 172.1, 'y': 137.14}, {'x': 181.13, 'y': 143.46}, {'x': 173.3, 'y': 146.53}, {'x': 163.49, 'y': 147.97}, {'x': 154.02, 'y': 147.27}, {'x': 163.88, 'y': 140.85}, {'x': 139.55, 'y': 128.89}, {'x': 152.3, 'y': 120.07}, {'x': 166.24, 'y': 118.02}, {'x': 181.25, 'y': 118.95}, {'x': 195.17, 'y': 129.56}, {'x': 181.05, 'y': 126.42}, {'x': 166.87, 'y': 126.48}, {'x': 153.16, 'y': 127.97}, {'x': 111.77, 'y': 147.42}, {'x': 109.17, 'y': 161.21}, {'x': 106.32, 'y': 175.23}, {'x': 102.22, 'y': 191.15}, {'x': 111.04, 'y': 191.39}, {'x': 132.63, 'y': 190.64}, {'x': 144.42, 'y': 189.94}, {'x': 138.67, 'y': 174.32}, {'x': 135.97, 'y': 160.74}, {'x': 133.4, 'y': 147.04}, {'x': 119.22, 'y': 181.62}, {'x': 95.5, 'y': 221.89}, {'x': 106.69, 'y': 213.25}, {'x': 122.31, 'y': 212.03}, {'x': 140.01, 'y': 213.01}, {'x': 156.01, 'y': 221.69}, {'x': 141.41, 'y': 232.86}, {'x': 122.71, 'y': 237.08}, {'x': 105.94, 'y': 232.66}, {'x': 107.95, 'y': 219.26}, {'x': 122.4, 'y': 218.88}, {'x': 139.14, 'y': 218.91}, {'x': 138.73, 'y': 225.01}, {'x': 122.62, 'y': 226.32}, {'x': 108.46, 'y': 225.11}]}]}}\n"
     ]
    }
   ],
   "source": [
    "import requests\n",
    "\n",
    "'''\n",
    "人脸检测与属性分析\n",
    "'''\n",
    "\n",
    "request_url = \"https://aip.baidubce.com/rest/2.0/face/v3/detect\"\n",
    "\n",
    "params = \"{\\\"image\\\":\\\"https://ss0.bdstatic.com/70cFuHSh_Q1YnxGkpoWK1HF6hhy/it/u=3309265714,3411534634&fm=26&gp=0.jpg\\\",\\\"image_type\\\":\\\"URL\\\",\\\"face_field\\\":\\\"age,gender,glasses,landmark\\\"}\"\n",
    "access_token = '24.4b0a5ee94a32e13563f8b0f320d7294c.2592000.1588390926.282335-19211995'\n",
    "request_url = request_url + \"?access_token=\" + access_token\n",
    "headers = {'content-type': 'application/json'}\n",
    "response = requests.post(request_url, data=params, headers=headers)\n",
    "if response:\n",
    "    print (response.json())"
   ]
  },
  {
   "cell_type": "code",
   "execution_count": 61,
   "metadata": {},
   "outputs": [
    {
     "data": {
      "text/plain": [
       "[{'face_token': '1d4eb16e40ee2ec1e8661a48968bdcef',\n",
       "  'location': {'left': 47.28,\n",
       "   'top': 120.18,\n",
       "   'width': 174,\n",
       "   'height': 158,\n",
       "   'rotation': 0},\n",
       "  'face_probability': 1,\n",
       "  'angle': {'yaw': 8.04, 'pitch': 5.47, 'roll': -3.27},\n",
       "  'age': 27,\n",
       "  'gender': {'type': 'female', 'probability': 1},\n",
       "  'glasses': {'type': 'none', 'probability': 1},\n",
       "  'landmark': [{'x': 87.58, 'y': 142.2},\n",
       "   {'x': 163.88, 'y': 140.85},\n",
       "   {'x': 119.22, 'y': 181.62},\n",
       "   {'x': 123.56, 'y': 222.71}],\n",
       "  'landmark72': [{'x': 47.38, 'y': 146.8},\n",
       "   {'x': 49.4, 'y': 171.99},\n",
       "   {'x': 53.6, 'y': 197.58},\n",
       "   {'x': 59.63, 'y': 222.99},\n",
       "   {'x': 74.59, 'y': 248.42},\n",
       "   {'x': 98.56, 'y': 268.99},\n",
       "   {'x': 124.32, 'y': 277.1},\n",
       "   {'x': 152.92, 'y': 272.09},\n",
       "   {'x': 182.55, 'y': 255.61},\n",
       "   {'x': 205.12, 'y': 228.62},\n",
       "   {'x': 213.62, 'y': 200.26},\n",
       "   {'x': 218.85, 'y': 172.06},\n",
       "   {'x': 222.04, 'y': 143.72},\n",
       "   {'x': 69.08, 'y': 145.32},\n",
       "   {'x': 76.65, 'y': 138.79},\n",
       "   {'x': 85.48, 'y': 136.6},\n",
       "   {'x': 94.97, 'y': 138.72},\n",
       "   {'x': 103.11, 'y': 146.9},\n",
       "   {'x': 94.54, 'y': 148.38},\n",
       "   {'x': 85.17, 'y': 149.48},\n",
       "   {'x': 76.13, 'y': 148.28},\n",
       "   {'x': 87.58, 'y': 142.2},\n",
       "   {'x': 55.7, 'y': 132.16},\n",
       "   {'x': 66.01, 'y': 121.34},\n",
       "   {'x': 79.14, 'y': 120.08},\n",
       "   {'x': 91.99, 'y': 121.74},\n",
       "   {'x': 103.88, 'y': 129.98},\n",
       "   {'x': 91.33, 'y': 129.26},\n",
       "   {'x': 78.72, 'y': 128.31},\n",
       "   {'x': 66.66, 'y': 129.01},\n",
       "   {'x': 145.58, 'y': 146.07},\n",
       "   {'x': 153.34, 'y': 138},\n",
       "   {'x': 162.45, 'y': 135.3},\n",
       "   {'x': 172.1, 'y': 137.14},\n",
       "   {'x': 181.13, 'y': 143.46},\n",
       "   {'x': 173.3, 'y': 146.53},\n",
       "   {'x': 163.49, 'y': 147.97},\n",
       "   {'x': 154.02, 'y': 147.27},\n",
       "   {'x': 163.88, 'y': 140.85},\n",
       "   {'x': 139.55, 'y': 128.89},\n",
       "   {'x': 152.3, 'y': 120.07},\n",
       "   {'x': 166.24, 'y': 118.02},\n",
       "   {'x': 181.25, 'y': 118.95},\n",
       "   {'x': 195.17, 'y': 129.56},\n",
       "   {'x': 181.05, 'y': 126.42},\n",
       "   {'x': 166.87, 'y': 126.48},\n",
       "   {'x': 153.16, 'y': 127.97},\n",
       "   {'x': 111.77, 'y': 147.42},\n",
       "   {'x': 109.17, 'y': 161.21},\n",
       "   {'x': 106.32, 'y': 175.23},\n",
       "   {'x': 102.22, 'y': 191.15},\n",
       "   {'x': 111.04, 'y': 191.39},\n",
       "   {'x': 132.63, 'y': 190.64},\n",
       "   {'x': 144.42, 'y': 189.94},\n",
       "   {'x': 138.67, 'y': 174.32},\n",
       "   {'x': 135.97, 'y': 160.74},\n",
       "   {'x': 133.4, 'y': 147.04},\n",
       "   {'x': 119.22, 'y': 181.62},\n",
       "   {'x': 95.5, 'y': 221.89},\n",
       "   {'x': 106.69, 'y': 213.25},\n",
       "   {'x': 122.31, 'y': 212.03},\n",
       "   {'x': 140.01, 'y': 213.01},\n",
       "   {'x': 156.01, 'y': 221.69},\n",
       "   {'x': 141.41, 'y': 232.86},\n",
       "   {'x': 122.71, 'y': 237.08},\n",
       "   {'x': 105.94, 'y': 232.66},\n",
       "   {'x': 107.95, 'y': 219.26},\n",
       "   {'x': 122.4, 'y': 218.88},\n",
       "   {'x': 139.14, 'y': 218.91},\n",
       "   {'x': 138.73, 'y': 225.01},\n",
       "   {'x': 122.62, 'y': 226.32},\n",
       "   {'x': 108.46, 'y': 225.11}]}]"
      ]
     },
     "execution_count": 61,
     "metadata": {},
     "output_type": "execute_result"
    }
   ],
   "source": [
    "results=response.json()\n",
    "r=results['result']\n",
    "s=r['face_list']\n",
    "s"
   ]
  },
  {
   "cell_type": "code",
   "execution_count": 67,
   "metadata": {},
   "outputs": [],
   "source": [
    "df = pd.io.json.json_normalize(r['face_list'])"
   ]
  },
  {
   "cell_type": "code",
   "execution_count": 69,
   "metadata": {},
   "outputs": [
    {
     "data": {
      "text/html": [
       "<div>\n",
       "<style scoped>\n",
       "    .dataframe tbody tr th:only-of-type {\n",
       "        vertical-align: middle;\n",
       "    }\n",
       "\n",
       "    .dataframe tbody tr th {\n",
       "        vertical-align: top;\n",
       "    }\n",
       "\n",
       "    .dataframe thead th {\n",
       "        text-align: right;\n",
       "    }\n",
       "</style>\n",
       "<table border=\"1\" class=\"dataframe\">\n",
       "  <thead>\n",
       "    <tr style=\"text-align: right;\">\n",
       "      <th></th>\n",
       "      <th>age</th>\n",
       "      <th>angle.pitch</th>\n",
       "      <th>angle.roll</th>\n",
       "      <th>angle.yaw</th>\n",
       "      <th>face_probability</th>\n",
       "      <th>face_token</th>\n",
       "      <th>gender.probability</th>\n",
       "      <th>gender.type</th>\n",
       "      <th>glasses.probability</th>\n",
       "      <th>glasses.type</th>\n",
       "      <th>landmark</th>\n",
       "      <th>landmark72</th>\n",
       "      <th>location.height</th>\n",
       "      <th>location.left</th>\n",
       "      <th>location.rotation</th>\n",
       "      <th>location.top</th>\n",
       "      <th>location.width</th>\n",
       "    </tr>\n",
       "  </thead>\n",
       "  <tbody>\n",
       "    <tr>\n",
       "      <th>0</th>\n",
       "      <td>27</td>\n",
       "      <td>5.47</td>\n",
       "      <td>-3.27</td>\n",
       "      <td>8.04</td>\n",
       "      <td>1</td>\n",
       "      <td>1d4eb16e40ee2ec1e8661a48968bdcef</td>\n",
       "      <td>1</td>\n",
       "      <td>female</td>\n",
       "      <td>1</td>\n",
       "      <td>none</td>\n",
       "      <td>[{'x': 87.58, 'y': 142.2}, {'x': 163.88, 'y': ...</td>\n",
       "      <td>[{'x': 47.38, 'y': 146.8}, {'x': 49.4, 'y': 17...</td>\n",
       "      <td>158</td>\n",
       "      <td>47.28</td>\n",
       "      <td>0</td>\n",
       "      <td>120.18</td>\n",
       "      <td>174</td>\n",
       "    </tr>\n",
       "  </tbody>\n",
       "</table>\n",
       "</div>"
      ],
      "text/plain": [
       "   age  angle.pitch  angle.roll  angle.yaw  face_probability  \\\n",
       "0   27         5.47       -3.27       8.04                 1   \n",
       "\n",
       "                         face_token  gender.probability gender.type  \\\n",
       "0  1d4eb16e40ee2ec1e8661a48968bdcef                   1      female   \n",
       "\n",
       "   glasses.probability glasses.type  \\\n",
       "0                    1         none   \n",
       "\n",
       "                                            landmark  \\\n",
       "0  [{'x': 87.58, 'y': 142.2}, {'x': 163.88, 'y': ...   \n",
       "\n",
       "                                          landmark72  location.height  \\\n",
       "0  [{'x': 47.38, 'y': 146.8}, {'x': 49.4, 'y': 17...              158   \n",
       "\n",
       "   location.left  location.rotation  location.top  location.width  \n",
       "0          47.28                  0        120.18             174  "
      ]
     },
     "execution_count": 69,
     "metadata": {},
     "output_type": "execute_result"
    }
   ],
   "source": [
    "df"
   ]
  },
  {
   "cell_type": "code",
   "execution_count": 70,
   "metadata": {},
   "outputs": [
    {
     "data": {
      "text/html": [
       "<div>\n",
       "<style scoped>\n",
       "    .dataframe tbody tr th:only-of-type {\n",
       "        vertical-align: middle;\n",
       "    }\n",
       "\n",
       "    .dataframe tbody tr th {\n",
       "        vertical-align: top;\n",
       "    }\n",
       "\n",
       "    .dataframe thead th {\n",
       "        text-align: right;\n",
       "    }\n",
       "</style>\n",
       "<table border=\"1\" class=\"dataframe\">\n",
       "  <thead>\n",
       "    <tr style=\"text-align: right;\">\n",
       "      <th></th>\n",
       "      <th>age</th>\n",
       "      <th>gender.type</th>\n",
       "      <th>glasses.type</th>\n",
       "    </tr>\n",
       "  </thead>\n",
       "  <tbody>\n",
       "    <tr>\n",
       "      <th>0</th>\n",
       "      <td>27</td>\n",
       "      <td>female</td>\n",
       "      <td>none</td>\n",
       "    </tr>\n",
       "  </tbody>\n",
       "</table>\n",
       "</div>"
      ],
      "text/plain": [
       "   age gender.type glasses.type\n",
       "0   27      female         none"
      ]
     },
     "execution_count": 70,
     "metadata": {},
     "output_type": "execute_result"
    }
   ],
   "source": [
    "show_attributes=df[['age','gender.type','glasses.type']]\n",
    "show_attributes"
   ]
  },
  {
   "cell_type": "code",
   "execution_count": null,
   "metadata": {},
   "outputs": [],
   "source": []
  }
 ],
 "metadata": {
  "kernelspec": {
   "display_name": "Python 3",
   "language": "python",
   "name": "python3"
  },
  "language_info": {
   "codemirror_mode": {
    "name": "ipython",
    "version": 3
   },
   "file_extension": ".py",
   "mimetype": "text/x-python",
   "name": "python",
   "nbconvert_exporter": "python",
   "pygments_lexer": "ipython3",
   "version": "3.7.3"
  }
 },
 "nbformat": 4,
 "nbformat_minor": 2
}
